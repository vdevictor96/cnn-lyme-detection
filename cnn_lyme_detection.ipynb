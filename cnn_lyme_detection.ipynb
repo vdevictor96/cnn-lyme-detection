{
  "nbformat": 4,
  "nbformat_minor": 0,
  "metadata": {
    "colab": {
      "name": "cnn-lyme-detection.ipynb",
      "provenance": [],
      "collapsed_sections": []
    },
    "kernelspec": {
      "name": "python3",
      "display_name": "Python 3"
    },
    "language_info": {
      "name": "python"
    }
  },
  "cells": [
    {
      "cell_type": "code",
      "execution_count": null,
      "metadata": {
        "id": "62OCVFrnRZGx"
      },
      "outputs": [],
      "source": [
        "Name = \"Luisa Danalachi\"\n",
        "Matriculation_Number = \"7022909\"\n",
        "\n",
        "Name = \"Victor Martinez Palomares\"\n",
        "Matriculation_Number = \"7021729\"\n",
        "\n",
        "Name = \"Soham Roy\"\n",
        "Matriculation_Number = \"7028704\""
      ]
    },
    {
      "cell_type": "code",
      "source": [
        "from google.colab import drive\n",
        "drive.mount('/content/drive')\n",
        "\n",
        "!mkdir ./datasets\n",
        "!cp -r drive/MyDrive/Colab\\ Notebooks/HLCV_project/datasets/lyme_dataset.zip ./datasets\n",
        "!unzip ./datasets/lyme_dataset.zip\n",
        "\n",
        "'''\n",
        "!mkdir ./resources\n",
        "\n",
        "\n",
        "!cp -r drive/MyDrive/Colab\\ Notebooks/HLCV/Exercise_3/resources/fig1.png ./resources\n",
        "!cp -r drive/MyDrive/Colab\\ Notebooks/HLCV/Exercise_3/resources/fig2.png ./resources\n",
        "\n",
        "'''"
      ],
      "metadata": {
        "id": "i6fBKi5dRdVQ",
        "colab": {
          "base_uri": "https://localhost:8080/",
          "height": 122
        },
        "outputId": "5578c896-1326-4b2b-ea26-a662ded83184"
      },
      "execution_count": 36,
      "outputs": [
        {
          "output_type": "stream",
          "name": "stdout",
          "text": [
            "Drive already mounted at /content/drive; to attempt to forcibly remount, call drive.mount(\"/content/drive\", force_remount=True).\n",
            "mkdir: cannot create directory ‘./datasets’: File exists\n",
            "cp: cannot stat 'drive/MyDrive/Colab Notebooks/HLCV_project/datasets/lyme_dataset.zip': No such file or directory\n",
            "unzip:  cannot find or open ./datasets/lyme_dataset.zip, ./datasets/lyme_dataset.zip.zip or ./datasets/lyme_dataset.zip.ZIP.\n"
          ]
        },
        {
          "output_type": "execute_result",
          "data": {
            "text/plain": [
              "'\\n!mkdir ./resources\\n\\n\\n!cp -r drive/MyDrive/Colab\\\\ Notebooks/HLCV/Exercise_3/resources/fig1.png ./resources\\n!cp -r drive/MyDrive/Colab\\\\ Notebooks/HLCV/Exercise_3/resources/fig2.png ./resources\\n\\n'"
            ],
            "application/vnd.google.colaboratory.intrinsic+json": {
              "type": "string"
            }
          },
          "metadata": {},
          "execution_count": 36
        }
      ]
    },
    {
      "cell_type": "code",
      "source": [
        "import os\n",
        "import glob\n",
        "import random\n",
        "from pathlib import Path\n",
        "import torch\n",
        "import torch.nn as nn\n",
        "from torch.utils.data import Dataset\n",
        "import torchvision\n",
        "import torchvision.transforms as transforms\n",
        "from torchvision.io import read_image\n",
        "import numpy as np\n",
        "import matplotlib.pyplot as plt\n",
        "\n",
        "\n"
      ],
      "metadata": {
        "id": "nifGyyAjRiJd"
      },
      "execution_count": 21,
      "outputs": []
    },
    {
      "cell_type": "markdown",
      "source": [
        "### Params"
      ],
      "metadata": {
        "id": "hRgAQ3OtKLeE"
      }
    },
    {
      "cell_type": "code",
      "source": [
        "IMAGE_SIZE = 256\n",
        "EPOCHS = 120\n",
        "BATCH = 8\n",
        "LR = 1e-4\n",
        "\n",
        "path = \"./datasets/lyme_dataset/RashData\""
      ],
      "metadata": {
        "id": "GTnqkXkIKKs8"
      },
      "execution_count": 7,
      "outputs": []
    },
    {
      "cell_type": "markdown",
      "source": [
        "### Loading fine-tuning dataset"
      ],
      "metadata": {
        "id": "KnXFEuQ1DrI_"
      }
    },
    {
      "cell_type": "code",
      "source": [
        "def load_data(path, train=True):\n",
        "  if train:\n",
        "    # load train data\n",
        "    images = sorted(Path(os.path.join(path, \"Train/Train_2_Cases/Lyme_Negative\")).glob('**/*'))\n",
        "    #images = sorted(glob(os.path.join(path, \"Train/Train_2_Cases/Lyme_Negative/*\")))\n",
        "    masks = np.zeros(len(images))\n",
        "    images1 = sorted(Path(os.path.join(path, \"Train/Train_2_Cases/Lyme_Positive\")).glob('**/*'))\n",
        "    #images1 = (sorted(glob(os.path.join(path, \"Train/Train_2_Cases/Lyme_Positive/*\"))))\n",
        "    images = images + images1\n",
        "    masks = np.concatenate([masks,np.ones(len(images1))])\n",
        "    total_size = len(images)\n",
        "    dataset = list(zip(images, masks))\n",
        "    random.shuffle(dataset)\n",
        "    '''\n",
        "    # split train/val data\n",
        "    val_size = int(split * len(dataset))\n",
        "    train_size = len(dataset) - val_size\n",
        "    train_dataset, val_dataset = torch.utils.data.random_split(dataset, [train_size, val_size])\n",
        "    '''\n",
        "    # unzip train data\n",
        "    images, masks = zip(*dataset)\n",
        "    #train_x = list(images)\n",
        "    train_x = list(map(str, images))\n",
        "    train_y = np.array(list(masks))\n",
        "\n",
        "    return train_x, train_y\n",
        "  else:\n",
        "    # load test data\n",
        "    images = sorted(Path(os.path.join(path, \"Validation/Validation_2_Cases/Lyme_Negative\")).glob('**/*'))\n",
        "    #images = sorted(glob(os.path.join(path, \"Validation/Validation_2_Cases/Lyme_Negative/*\")))\n",
        "    masks = np.zeros(len(images))\n",
        "    images1 = sorted(Path(os.path.join(path, \"Validation/Validation_2_Cases/Lyme_Positive\")).glob('**/*'))\n",
        "    #images1 = (sorted(glob(os.path.join(path, \"Validation/Validation_2_Cases/Lyme_Positive/*\"))))\n",
        "    images = images + images1\n",
        "    masks = np.concatenate([masks,np.ones(len(images1))])\n",
        "\n",
        "    c = list(zip(images, masks))\n",
        "    random.shuffle(c)\n",
        "    images, masks = zip(*c)\n",
        "\n",
        "    #test_x = list(images)\n",
        "    test_x = list(map(str, images))\n",
        "    test_y = np.array(list(masks))\n",
        "\n",
        "    #train_x, test_x = train_test_split(train_x, test_size=test_size, random_state=42)\n",
        "    #train_y, test_y = train_test_split(train_y, test_size=test_size, random_state=42)\n",
        "    \n",
        "    return test_x, test_y"
      ],
      "metadata": {
        "id": "TRCb9O0vRlVr"
      },
      "execution_count": 28,
      "outputs": []
    },
    {
      "cell_type": "code",
      "source": [
        "train_x, train_y = load_data(path, train=True)\n",
        "print(\"Training data: \", (train_x))\n",
        "print(len(train_x))\n",
        "test_x, test_y = load_data(path, train=False)\n",
        "print(\"Testing data: \", (test_x))\n",
        "print(len(test_x))"
      ],
      "metadata": {
        "colab": {
          "base_uri": "https://localhost:8080/"
        },
        "id": "KuXO4mROJWKa",
        "outputId": "59860342-0f7c-4b70-d73d-a1b0291e629b"
      },
      "execution_count": 29,
      "outputs": [
        {
          "output_type": "stream",
          "name": "stdout",
          "text": [
            "Training data:  ['datasets/lyme_dataset/RashData/Train/Train_2_Cases/Lyme_Negative/ringworm106.jpg', 'datasets/lyme_dataset/RashData/Train/Train_2_Cases/Lyme_Negative/ringworm100.jpg', 'datasets/lyme_dataset/RashData/Train/Train_2_Cases/Lyme_Positive/erythema migrans148.jpg', 'datasets/lyme_dataset/RashData/Train/Train_2_Cases/Lyme_Negative/Pityriasis rosea rash103.jpg', 'datasets/lyme_dataset/RashData/Train/Train_2_Cases/Lyme_Negative/ringworm69.jpg', 'datasets/lyme_dataset/RashData/Train/Train_2_Cases/Lyme_Negative/Pityriasis rosea rash34.jpg', 'datasets/lyme_dataset/RashData/Train/Train_2_Cases/Lyme_Negative/ringworm22.jpg', 'datasets/lyme_dataset/RashData/Train/Train_2_Cases/Lyme_Positive/erythema migrans242.jpg', 'datasets/lyme_dataset/RashData/Train/Train_2_Cases/Lyme_Negative/Pityriasis rosea rash30.jpg', 'datasets/lyme_dataset/RashData/Train/Train_2_Cases/Lyme_Positive/erythema migrans62.jpg', 'datasets/lyme_dataset/RashData/Train/Train_2_Cases/Lyme_Positive/erythema migrans109.jpg', 'datasets/lyme_dataset/RashData/Train/Train_2_Cases/Lyme_Negative/ringworm15.jpg', 'datasets/lyme_dataset/RashData/Train/Train_2_Cases/Lyme_Negative/ringworm63.jpg', 'datasets/lyme_dataset/RashData/Train/Train_2_Cases/Lyme_Negative/ringworm59.jpg', 'datasets/lyme_dataset/RashData/Train/Train_2_Cases/Lyme_Positive/erythema migrans105.jpg', 'datasets/lyme_dataset/RashData/Train/Train_2_Cases/Lyme_Positive/erythema migrans119.jpg', 'datasets/lyme_dataset/RashData/Train/Train_2_Cases/Lyme_Positive/erythema migrans145.jpg', 'datasets/lyme_dataset/RashData/Train/Train_2_Cases/Lyme_Negative/fixed drug reaction41.jpg', 'datasets/lyme_dataset/RashData/Train/Train_2_Cases/Lyme_Negative/ringworm79.jpg', 'datasets/lyme_dataset/RashData/Train/Train_2_Cases/Lyme_Negative/Pityriasis rosea rash58.jpg', 'datasets/lyme_dataset/RashData/Train/Train_2_Cases/Lyme_Negative/ringworm68.jpg', 'datasets/lyme_dataset/RashData/Train/Train_2_Cases/Lyme_Negative/ringworm34.jpg', 'datasets/lyme_dataset/RashData/Train/Train_2_Cases/Lyme_Positive/erythema migrans46.jpg', 'datasets/lyme_dataset/RashData/Train/Train_2_Cases/Lyme_Positive/erythema migrans262.jpg', 'datasets/lyme_dataset/RashData/Train/Train_2_Cases/Lyme_Positive/erythema migrans221.jpg', 'datasets/lyme_dataset/RashData/Train/Train_2_Cases/Lyme_Negative/ringworm74.jpg', 'datasets/lyme_dataset/RashData/Train/Train_2_Cases/Lyme_Negative/Pityriasis rosea rash61.jpg', 'datasets/lyme_dataset/RashData/Train/Train_2_Cases/Lyme_Negative/Pityriasis rosea rash43.jpg', 'datasets/lyme_dataset/RashData/Train/Train_2_Cases/Lyme_Negative/fixed drug reaction30.jpg', 'datasets/lyme_dataset/RashData/Train/Train_2_Cases/Lyme_Positive/erythema migrans194.jpg', 'datasets/lyme_dataset/RashData/Train/Train_2_Cases/Lyme_Negative/Pityriasis rosea rash105.jpg', 'datasets/lyme_dataset/RashData/Train/Train_2_Cases/Lyme_Negative/ringworm111.jpg', 'datasets/lyme_dataset/RashData/Train/Train_2_Cases/Lyme_Positive/erythema migrans70.jpg', 'datasets/lyme_dataset/RashData/Train/Train_2_Cases/Lyme_Negative/fixed drug reaction67.jpg', 'datasets/lyme_dataset/RashData/Train/Train_2_Cases/Lyme_Negative/ringworm45.jpg', 'datasets/lyme_dataset/RashData/Train/Train_2_Cases/Lyme_Positive/erythema migrans113.jpg', 'datasets/lyme_dataset/RashData/Train/Train_2_Cases/Lyme_Negative/Pityriasis rosea rash102.jpg', 'datasets/lyme_dataset/RashData/Train/Train_2_Cases/Lyme_Positive/erythema migrans210.jpg', 'datasets/lyme_dataset/RashData/Train/Train_2_Cases/Lyme_Negative/Pityriasis rosea rash64.jpg', 'datasets/lyme_dataset/RashData/Train/Train_2_Cases/Lyme_Negative/ringworm36.jpg', 'datasets/lyme_dataset/RashData/Train/Train_2_Cases/Lyme_Positive/erythema migrans161.jpg', 'datasets/lyme_dataset/RashData/Train/Train_2_Cases/Lyme_Positive/erythema migrans141.jpg', 'datasets/lyme_dataset/RashData/Train/Train_2_Cases/Lyme_Positive/erythema migrans93.jpg', 'datasets/lyme_dataset/RashData/Train/Train_2_Cases/Lyme_Positive/erythema migrans241.jpg', 'datasets/lyme_dataset/RashData/Train/Train_2_Cases/Lyme_Negative/fixed drug reaction36.jpg', 'datasets/lyme_dataset/RashData/Train/Train_2_Cases/Lyme_Negative/ringworm104.jpg', 'datasets/lyme_dataset/RashData/Train/Train_2_Cases/Lyme_Positive/erythema migrans177.jpg', 'datasets/lyme_dataset/RashData/Train/Train_2_Cases/Lyme_Negative/fixed drug reaction77.jpg', 'datasets/lyme_dataset/RashData/Train/Train_2_Cases/Lyme_Negative/Pityriasis rosea rash134.jpg', 'datasets/lyme_dataset/RashData/Train/Train_2_Cases/Lyme_Negative/fixed drug reaction55.jpg', 'datasets/lyme_dataset/RashData/Train/Train_2_Cases/Lyme_Negative/Pityriasis rosea rash47.jpg', 'datasets/lyme_dataset/RashData/Train/Train_2_Cases/Lyme_Negative/Pityriasis rosea rash59.jpg', 'datasets/lyme_dataset/RashData/Train/Train_2_Cases/Lyme_Negative/fixed drug reaction57.jpg', 'datasets/lyme_dataset/RashData/Train/Train_2_Cases/Lyme_Positive/erythema migrans120.jpg', 'datasets/lyme_dataset/RashData/Train/Train_2_Cases/Lyme_Negative/Pityriasis rosea rash38.jpg', 'datasets/lyme_dataset/RashData/Train/Train_2_Cases/Lyme_Negative/Pityriasis rosea rash60.jpg', 'datasets/lyme_dataset/RashData/Train/Train_2_Cases/Lyme_Positive/erythema migrans193.jpg', 'datasets/lyme_dataset/RashData/Train/Train_2_Cases/Lyme_Negative/Pityriasis rosea rash107.jpg', 'datasets/lyme_dataset/RashData/Train/Train_2_Cases/Lyme_Negative/fixed drug reaction10.jpg', 'datasets/lyme_dataset/RashData/Train/Train_2_Cases/Lyme_Negative/ringworm7.jpg', 'datasets/lyme_dataset/RashData/Train/Train_2_Cases/Lyme_Positive/erythema migrans130.jpg', 'datasets/lyme_dataset/RashData/Train/Train_2_Cases/Lyme_Positive/erythema migrans81.jpg', 'datasets/lyme_dataset/RashData/Train/Train_2_Cases/Lyme_Positive/erythema migrans250.jpg', 'datasets/lyme_dataset/RashData/Train/Train_2_Cases/Lyme_Negative/Pityriasis rosea rash99.jpg', 'datasets/lyme_dataset/RashData/Train/Train_2_Cases/Lyme_Negative/Pityriasis rosea rash75.jpg', 'datasets/lyme_dataset/RashData/Train/Train_2_Cases/Lyme_Negative/ringworm1.jpg', 'datasets/lyme_dataset/RashData/Train/Train_2_Cases/Lyme_Positive/erythema migrans259.jpg', 'datasets/lyme_dataset/RashData/Train/Train_2_Cases/Lyme_Negative/ringworm80.jpg', 'datasets/lyme_dataset/RashData/Train/Train_2_Cases/Lyme_Positive/erythema migrans94.jpg', 'datasets/lyme_dataset/RashData/Train/Train_2_Cases/Lyme_Positive/erythema migrans231.jpg', 'datasets/lyme_dataset/RashData/Train/Train_2_Cases/Lyme_Negative/Pityriasis rosea rash42.jpg', 'datasets/lyme_dataset/RashData/Train/Train_2_Cases/Lyme_Positive/erythema migrans57.jpg', 'datasets/lyme_dataset/RashData/Train/Train_2_Cases/Lyme_Positive/erythema migrans280.jpg', 'datasets/lyme_dataset/RashData/Train/Train_2_Cases/Lyme_Negative/Pityriasis rosea rash87.jpg', 'datasets/lyme_dataset/RashData/Train/Train_2_Cases/Lyme_Negative/ringworm42.jpg', 'datasets/lyme_dataset/RashData/Train/Train_2_Cases/Lyme_Positive/erythema migrans134.jpg', 'datasets/lyme_dataset/RashData/Train/Train_2_Cases/Lyme_Negative/Pityriasis rosea rash62.jpg', 'datasets/lyme_dataset/RashData/Train/Train_2_Cases/Lyme_Negative/fixed drug reaction35.jpg', 'datasets/lyme_dataset/RashData/Train/Train_2_Cases/Lyme_Negative/Pityriasis rosea rash65.jpg', 'datasets/lyme_dataset/RashData/Train/Train_2_Cases/Lyme_Positive/erythema migrans222.jpg', 'datasets/lyme_dataset/RashData/Train/Train_2_Cases/Lyme_Positive/erythema migrans67.jpg', 'datasets/lyme_dataset/RashData/Train/Train_2_Cases/Lyme_Negative/ringworm6.jpg', 'datasets/lyme_dataset/RashData/Train/Train_2_Cases/Lyme_Negative/fixed drug reaction58.jpg', 'datasets/lyme_dataset/RashData/Train/Train_2_Cases/Lyme_Negative/ringworm112.jpg', 'datasets/lyme_dataset/RashData/Train/Train_2_Cases/Lyme_Negative/ringworm4.jpg', 'datasets/lyme_dataset/RashData/Train/Train_2_Cases/Lyme_Positive/erythema migrans246.jpg', 'datasets/lyme_dataset/RashData/Train/Train_2_Cases/Lyme_Negative/Pityriasis rosea rash46.jpg', 'datasets/lyme_dataset/RashData/Train/Train_2_Cases/Lyme_Positive/erythema migrans110.jpg', 'datasets/lyme_dataset/RashData/Train/Train_2_Cases/Lyme_Positive/erythema migrans154.jpg', 'datasets/lyme_dataset/RashData/Train/Train_2_Cases/Lyme_Positive/erythema migrans175.jpg', 'datasets/lyme_dataset/RashData/Train/Train_2_Cases/Lyme_Negative/ringworm40.jpg', 'datasets/lyme_dataset/RashData/Train/Train_2_Cases/Lyme_Positive/erythema migrans95.jpg', 'datasets/lyme_dataset/RashData/Train/Train_2_Cases/Lyme_Positive/erythema migrans78.jpg', 'datasets/lyme_dataset/RashData/Train/Train_2_Cases/Lyme_Negative/ringworm46.jpg', 'datasets/lyme_dataset/RashData/Train/Train_2_Cases/Lyme_Negative/fixed drug reaction59.jpg', 'datasets/lyme_dataset/RashData/Train/Train_2_Cases/Lyme_Negative/ringworm67.jpg', 'datasets/lyme_dataset/RashData/Train/Train_2_Cases/Lyme_Positive/erythema migrans153.jpg', 'datasets/lyme_dataset/RashData/Train/Train_2_Cases/Lyme_Positive/erythema migrans197.jpg', 'datasets/lyme_dataset/RashData/Train/Train_2_Cases/Lyme_Positive/erythema migrans157.jpg', 'datasets/lyme_dataset/RashData/Train/Train_2_Cases/Lyme_Negative/Pityriasis rosea rash92.jpg', 'datasets/lyme_dataset/RashData/Train/Train_2_Cases/Lyme_Positive/erythema migrans267.jpg', 'datasets/lyme_dataset/RashData/Train/Train_2_Cases/Lyme_Negative/ringworm19.jpg', 'datasets/lyme_dataset/RashData/Train/Train_2_Cases/Lyme_Positive/erythema migrans92.jpg', 'datasets/lyme_dataset/RashData/Train/Train_2_Cases/Lyme_Negative/Pityriasis rosea rash91.jpg', 'datasets/lyme_dataset/RashData/Train/Train_2_Cases/Lyme_Negative/Pityriasis rosea rash106.jpg', 'datasets/lyme_dataset/RashData/Train/Train_2_Cases/Lyme_Positive/erythema migrans214.jpg', 'datasets/lyme_dataset/RashData/Train/Train_2_Cases/Lyme_Negative/fixed drug reaction52.jpg', 'datasets/lyme_dataset/RashData/Train/Train_2_Cases/Lyme_Negative/ringworm50.jpg', 'datasets/lyme_dataset/RashData/Train/Train_2_Cases/Lyme_Positive/erythema migrans58.jpg', 'datasets/lyme_dataset/RashData/Train/Train_2_Cases/Lyme_Positive/erythema migrans52.jpg', 'datasets/lyme_dataset/RashData/Train/Train_2_Cases/Lyme_Positive/erythema migrans135.jpg', 'datasets/lyme_dataset/RashData/Train/Train_2_Cases/Lyme_Positive/erythema migrans281.jpg', 'datasets/lyme_dataset/RashData/Train/Train_2_Cases/Lyme_Positive/erythema migrans104.jpg', 'datasets/lyme_dataset/RashData/Train/Train_2_Cases/Lyme_Positive/erythema migrans100.jpg', 'datasets/lyme_dataset/RashData/Train/Train_2_Cases/Lyme_Negative/Pityriasis rosea rash49.jpg', 'datasets/lyme_dataset/RashData/Train/Train_2_Cases/Lyme_Negative/Pityriasis rosea rash54.jpg', 'datasets/lyme_dataset/RashData/Train/Train_2_Cases/Lyme_Positive/erythema migrans224.jpg', 'datasets/lyme_dataset/RashData/Train/Train_2_Cases/Lyme_Positive/erythema migrans208.jpg', 'datasets/lyme_dataset/RashData/Train/Train_2_Cases/Lyme_Negative/Pityriasis rosea rash119.jpg', 'datasets/lyme_dataset/RashData/Train/Train_2_Cases/Lyme_Negative/Pityriasis rosea rash56.jpg', 'datasets/lyme_dataset/RashData/Train/Train_2_Cases/Lyme_Negative/fixed drug reaction24.jpg', 'datasets/lyme_dataset/RashData/Train/Train_2_Cases/Lyme_Positive/erythema migrans63.jpg', 'datasets/lyme_dataset/RashData/Train/Train_2_Cases/Lyme_Negative/ringworm32.jpg', 'datasets/lyme_dataset/RashData/Train/Train_2_Cases/Lyme_Negative/Pityriasis rosea rash55.jpg', 'datasets/lyme_dataset/RashData/Train/Train_2_Cases/Lyme_Negative/ringworm65.jpg', 'datasets/lyme_dataset/RashData/Train/Train_2_Cases/Lyme_Negative/ringworm105.jpg', 'datasets/lyme_dataset/RashData/Train/Train_2_Cases/Lyme_Positive/erythema migrans176.jpg', 'datasets/lyme_dataset/RashData/Train/Train_2_Cases/Lyme_Negative/Pityriasis rosea rash104.jpg', 'datasets/lyme_dataset/RashData/Train/Train_2_Cases/Lyme_Negative/ringworm24.jpg', 'datasets/lyme_dataset/RashData/Train/Train_2_Cases/Lyme_Positive/erythema migrans143.jpg', 'datasets/lyme_dataset/RashData/Train/Train_2_Cases/Lyme_Negative/ringworm27.jpg', 'datasets/lyme_dataset/RashData/Train/Train_2_Cases/Lyme_Positive/erythema migrans243.jpg', 'datasets/lyme_dataset/RashData/Train/Train_2_Cases/Lyme_Negative/Pityriasis rosea rash113.jpg', 'datasets/lyme_dataset/RashData/Train/Train_2_Cases/Lyme_Positive/erythema migrans216.jpg', 'datasets/lyme_dataset/RashData/Train/Train_2_Cases/Lyme_Negative/fixed drug reaction51.jpg', 'datasets/lyme_dataset/RashData/Train/Train_2_Cases/Lyme_Negative/fixed drug reaction31.jpg', 'datasets/lyme_dataset/RashData/Train/Train_2_Cases/Lyme_Positive/erythema migrans209.jpg', 'datasets/lyme_dataset/RashData/Train/Train_2_Cases/Lyme_Negative/ringworm56.jpg', 'datasets/lyme_dataset/RashData/Train/Train_2_Cases/Lyme_Positive/erythema migrans115.jpg', 'datasets/lyme_dataset/RashData/Train/Train_2_Cases/Lyme_Positive/erythema migrans117.jpg', 'datasets/lyme_dataset/RashData/Train/Train_2_Cases/Lyme_Negative/Pityriasis rosea rash115.jpg', 'datasets/lyme_dataset/RashData/Train/Train_2_Cases/Lyme_Negative/ringworm30.jpg', 'datasets/lyme_dataset/RashData/Train/Train_2_Cases/Lyme_Negative/ringworm13.jpg', 'datasets/lyme_dataset/RashData/Train/Train_2_Cases/Lyme_Positive/erythema migrans255.jpg', 'datasets/lyme_dataset/RashData/Train/Train_2_Cases/Lyme_Positive/erythema migrans80.jpg', 'datasets/lyme_dataset/RashData/Train/Train_2_Cases/Lyme_Negative/ringworm87.jpg', 'datasets/lyme_dataset/RashData/Train/Train_2_Cases/Lyme_Positive/erythema migrans156.jpg', 'datasets/lyme_dataset/RashData/Train/Train_2_Cases/Lyme_Positive/erythema migrans138.jpg', 'datasets/lyme_dataset/RashData/Train/Train_2_Cases/Lyme_Positive/erythema migrans183.jpg', 'datasets/lyme_dataset/RashData/Train/Train_2_Cases/Lyme_Negative/ringworm71.jpg', 'datasets/lyme_dataset/RashData/Train/Train_2_Cases/Lyme_Positive/erythema migrans121.jpg', 'datasets/lyme_dataset/RashData/Train/Train_2_Cases/Lyme_Negative/fixed drug reaction78.jpg', 'datasets/lyme_dataset/RashData/Train/Train_2_Cases/Lyme_Positive/erythema migrans76.jpg', 'datasets/lyme_dataset/RashData/Train/Train_2_Cases/Lyme_Positive/erythema migrans178.jpg', 'datasets/lyme_dataset/RashData/Train/Train_2_Cases/Lyme_Negative/Pityriasis rosea rash72.jpg', 'datasets/lyme_dataset/RashData/Train/Train_2_Cases/Lyme_Positive/erythema migrans174.jpg', 'datasets/lyme_dataset/RashData/Train/Train_2_Cases/Lyme_Negative/Pityriasis rosea rash44.jpg', 'datasets/lyme_dataset/RashData/Train/Train_2_Cases/Lyme_Negative/fixed drug reaction22.jpg', 'datasets/lyme_dataset/RashData/Train/Train_2_Cases/Lyme_Negative/Pityriasis rosea rash57.jpg', 'datasets/lyme_dataset/RashData/Train/Train_2_Cases/Lyme_Positive/erythema migrans87.jpg', 'datasets/lyme_dataset/RashData/Train/Train_2_Cases/Lyme_Negative/Pityriasis rosea rash37.jpg', 'datasets/lyme_dataset/RashData/Train/Train_2_Cases/Lyme_Negative/Pityriasis rosea rash139.jpg', 'datasets/lyme_dataset/RashData/Train/Train_2_Cases/Lyme_Negative/ringworm94.jpg', 'datasets/lyme_dataset/RashData/Train/Train_2_Cases/Lyme_Negative/Pityriasis rosea rash76.jpg', 'datasets/lyme_dataset/RashData/Train/Train_2_Cases/Lyme_Positive/erythema migrans132.jpg', 'datasets/lyme_dataset/RashData/Train/Train_2_Cases/Lyme_Negative/ringworm0.jpg', 'datasets/lyme_dataset/RashData/Train/Train_2_Cases/Lyme_Negative/Pityriasis rosea rash84.jpg', 'datasets/lyme_dataset/RashData/Train/Train_2_Cases/Lyme_Positive/erythema migrans232.jpg', 'datasets/lyme_dataset/RashData/Train/Train_2_Cases/Lyme_Negative/ringworm23.jpg', 'datasets/lyme_dataset/RashData/Train/Train_2_Cases/Lyme_Positive/erythema migrans77.jpg', 'datasets/lyme_dataset/RashData/Train/Train_2_Cases/Lyme_Negative/Pityriasis rosea rash33.jpg', 'datasets/lyme_dataset/RashData/Train/Train_2_Cases/Lyme_Positive/erythema migrans125.jpg', 'datasets/lyme_dataset/RashData/Train/Train_2_Cases/Lyme_Negative/ringworm55.jpg', 'datasets/lyme_dataset/RashData/Train/Train_2_Cases/Lyme_Positive/erythema migrans139.jpg', 'datasets/lyme_dataset/RashData/Train/Train_2_Cases/Lyme_Negative/ringworm92.jpg', 'datasets/lyme_dataset/RashData/Train/Train_2_Cases/Lyme_Negative/ringworm5.jpg', 'datasets/lyme_dataset/RashData/Train/Train_2_Cases/Lyme_Negative/Pityriasis rosea rash129.jpg', 'datasets/lyme_dataset/RashData/Train/Train_2_Cases/Lyme_Negative/ringworm28.jpg', 'datasets/lyme_dataset/RashData/Train/Train_2_Cases/Lyme_Negative/Pityriasis rosea rash116.jpg', 'datasets/lyme_dataset/RashData/Train/Train_2_Cases/Lyme_Negative/fixed drug reaction50.jpg', 'datasets/lyme_dataset/RashData/Train/Train_2_Cases/Lyme_Positive/erythema migrans220.jpg', 'datasets/lyme_dataset/RashData/Train/Train_2_Cases/Lyme_Positive/erythema migrans264.jpg', 'datasets/lyme_dataset/RashData/Train/Train_2_Cases/Lyme_Negative/fixed drug reaction49.jpg', 'datasets/lyme_dataset/RashData/Train/Train_2_Cases/Lyme_Positive/erythema migrans79.jpg', 'datasets/lyme_dataset/RashData/Train/Train_2_Cases/Lyme_Negative/Pityriasis rosea rash93.jpg', 'datasets/lyme_dataset/RashData/Train/Train_2_Cases/Lyme_Negative/Pityriasis rosea rash66.jpg', 'datasets/lyme_dataset/RashData/Train/Train_2_Cases/Lyme_Negative/Pityriasis rosea rash110.jpg', 'datasets/lyme_dataset/RashData/Train/Train_2_Cases/Lyme_Negative/fixed drug reaction29.jpg', 'datasets/lyme_dataset/RashData/Train/Train_2_Cases/Lyme_Positive/erythema migrans266.jpg', 'datasets/lyme_dataset/RashData/Train/Train_2_Cases/Lyme_Negative/Pityriasis rosea rash29.jpg', 'datasets/lyme_dataset/RashData/Train/Train_2_Cases/Lyme_Negative/ringworm38.jpg', 'datasets/lyme_dataset/RashData/Train/Train_2_Cases/Lyme_Negative/fixed drug reaction27.jpg', 'datasets/lyme_dataset/RashData/Train/Train_2_Cases/Lyme_Positive/erythema migrans236.jpg', 'datasets/lyme_dataset/RashData/Train/Train_2_Cases/Lyme_Positive/erythema migrans207.jpg', 'datasets/lyme_dataset/RashData/Train/Train_2_Cases/Lyme_Positive/erythema migrans248.jpg', 'datasets/lyme_dataset/RashData/Train/Train_2_Cases/Lyme_Negative/Pityriasis rosea rash126.jpg', 'datasets/lyme_dataset/RashData/Train/Train_2_Cases/Lyme_Negative/ringworm21.jpg', 'datasets/lyme_dataset/RashData/Train/Train_2_Cases/Lyme_Negative/Pityriasis rosea rash78.jpg', 'datasets/lyme_dataset/RashData/Train/Train_2_Cases/Lyme_Negative/ringworm72.jpg', 'datasets/lyme_dataset/RashData/Train/Train_2_Cases/Lyme_Negative/ringworm10.jpg', 'datasets/lyme_dataset/RashData/Train/Train_2_Cases/Lyme_Positive/erythema migrans205.jpg', 'datasets/lyme_dataset/RashData/Train/Train_2_Cases/Lyme_Negative/ringworm49.jpg', 'datasets/lyme_dataset/RashData/Train/Train_2_Cases/Lyme_Positive/erythema migrans164.jpg', 'datasets/lyme_dataset/RashData/Train/Train_2_Cases/Lyme_Negative/Pityriasis rosea rash50.jpg', 'datasets/lyme_dataset/RashData/Train/Train_2_Cases/Lyme_Negative/Pityriasis rosea rash40.jpg', 'datasets/lyme_dataset/RashData/Train/Train_2_Cases/Lyme_Negative/Pityriasis rosea rash77.jpg', 'datasets/lyme_dataset/RashData/Train/Train_2_Cases/Lyme_Positive/erythema migrans223.jpg', 'datasets/lyme_dataset/RashData/Train/Train_2_Cases/Lyme_Positive/erythema migrans54.jpg', 'datasets/lyme_dataset/RashData/Train/Train_2_Cases/Lyme_Negative/ringworm84.jpg', 'datasets/lyme_dataset/RashData/Train/Train_2_Cases/Lyme_Positive/erythema migrans252.jpg', 'datasets/lyme_dataset/RashData/Train/Train_2_Cases/Lyme_Negative/ringworm57.jpg', 'datasets/lyme_dataset/RashData/Train/Train_2_Cases/Lyme_Negative/fixed drug reaction75.jpg', 'datasets/lyme_dataset/RashData/Train/Train_2_Cases/Lyme_Positive/erythema migrans136.jpg', 'datasets/lyme_dataset/RashData/Train/Train_2_Cases/Lyme_Negative/Pityriasis rosea rash73.jpg', 'datasets/lyme_dataset/RashData/Train/Train_2_Cases/Lyme_Negative/Pityriasis rosea rash83.jpg', 'datasets/lyme_dataset/RashData/Train/Train_2_Cases/Lyme_Positive/erythema migrans168.jpg', 'datasets/lyme_dataset/RashData/Train/Train_2_Cases/Lyme_Negative/Pityriasis rosea rash41.jpg', 'datasets/lyme_dataset/RashData/Train/Train_2_Cases/Lyme_Negative/fixed drug reaction46.jpg', 'datasets/lyme_dataset/RashData/Train/Train_2_Cases/Lyme_Positive/erythema migrans201.jpg', 'datasets/lyme_dataset/RashData/Train/Train_2_Cases/Lyme_Positive/erythema migrans202.jpg', 'datasets/lyme_dataset/RashData/Train/Train_2_Cases/Lyme_Positive/erythema migrans155.jpg', 'datasets/lyme_dataset/RashData/Train/Train_2_Cases/Lyme_Positive/erythema migrans108.jpg', 'datasets/lyme_dataset/RashData/Train/Train_2_Cases/Lyme_Negative/Pityriasis rosea rash45.jpg', 'datasets/lyme_dataset/RashData/Train/Train_2_Cases/Lyme_Negative/ringworm16.jpg', 'datasets/lyme_dataset/RashData/Train/Train_2_Cases/Lyme_Positive/erythema migrans61.jpg', 'datasets/lyme_dataset/RashData/Train/Train_2_Cases/Lyme_Positive/erythema migrans238.jpg', 'datasets/lyme_dataset/RashData/Train/Train_2_Cases/Lyme_Negative/Pityriasis rosea rash52.jpg', 'datasets/lyme_dataset/RashData/Train/Train_2_Cases/Lyme_Negative/ringworm3.jpg', 'datasets/lyme_dataset/RashData/Train/Train_2_Cases/Lyme_Positive/erythema migrans112.jpg', 'datasets/lyme_dataset/RashData/Train/Train_2_Cases/Lyme_Negative/Pityriasis rosea rash32.jpg', 'datasets/lyme_dataset/RashData/Train/Train_2_Cases/Lyme_Negative/fixed drug reaction20.jpg', 'datasets/lyme_dataset/RashData/Train/Train_2_Cases/Lyme_Positive/erythema migrans150.jpg', 'datasets/lyme_dataset/RashData/Train/Train_2_Cases/Lyme_Negative/Pityriasis rosea rash94.jpg', 'datasets/lyme_dataset/RashData/Train/Train_2_Cases/Lyme_Negative/ringworm43.jpg', 'datasets/lyme_dataset/RashData/Train/Train_2_Cases/Lyme_Negative/fixed drug reaction38.jpg', 'datasets/lyme_dataset/RashData/Train/Train_2_Cases/Lyme_Positive/erythema migrans111.jpg', 'datasets/lyme_dataset/RashData/Train/Train_2_Cases/Lyme_Positive/erythema migrans163.jpg', 'datasets/lyme_dataset/RashData/Train/Train_2_Cases/Lyme_Positive/erythema migrans251.jpg', 'datasets/lyme_dataset/RashData/Train/Train_2_Cases/Lyme_Positive/erythema migrans152.jpg', 'datasets/lyme_dataset/RashData/Train/Train_2_Cases/Lyme_Negative/Pityriasis rosea rash67.jpg', 'datasets/lyme_dataset/RashData/Train/Train_2_Cases/Lyme_Positive/erythema migrans247.jpg', 'datasets/lyme_dataset/RashData/Train/Train_2_Cases/Lyme_Negative/Pityriasis rosea rash118.jpg', 'datasets/lyme_dataset/RashData/Train/Train_2_Cases/Lyme_Positive/erythema migrans128.jpg', 'datasets/lyme_dataset/RashData/Train/Train_2_Cases/Lyme_Negative/fixed drug reaction53.jpg', 'datasets/lyme_dataset/RashData/Train/Train_2_Cases/Lyme_Negative/ringworm107.jpg', 'datasets/lyme_dataset/RashData/Train/Train_2_Cases/Lyme_Negative/ringworm114.jpg', 'datasets/lyme_dataset/RashData/Train/Train_2_Cases/Lyme_Negative/Pityriasis rosea rash111.jpg', 'datasets/lyme_dataset/RashData/Train/Train_2_Cases/Lyme_Negative/fixed drug reaction34.jpg', 'datasets/lyme_dataset/RashData/Train/Train_2_Cases/Lyme_Negative/ringworm31.jpg', 'datasets/lyme_dataset/RashData/Train/Train_2_Cases/Lyme_Positive/erythema migrans103.jpg', 'datasets/lyme_dataset/RashData/Train/Train_2_Cases/Lyme_Positive/erythema migrans44.jpg', 'datasets/lyme_dataset/RashData/Train/Train_2_Cases/Lyme_Positive/erythema migrans192.jpg', 'datasets/lyme_dataset/RashData/Train/Train_2_Cases/Lyme_Positive/erythema migrans254.jpg', 'datasets/lyme_dataset/RashData/Train/Train_2_Cases/Lyme_Negative/Pityriasis rosea rash63.jpg', 'datasets/lyme_dataset/RashData/Train/Train_2_Cases/Lyme_Negative/fixed drug reaction37.jpg', 'datasets/lyme_dataset/RashData/Train/Train_2_Cases/Lyme_Negative/ringworm64.jpg', 'datasets/lyme_dataset/RashData/Train/Train_2_Cases/Lyme_Negative/Pityriasis rosea rash120.jpg', 'datasets/lyme_dataset/RashData/Train/Train_2_Cases/Lyme_Positive/erythema migrans206.jpg', 'datasets/lyme_dataset/RashData/Train/Train_2_Cases/Lyme_Negative/fixed drug reaction73.jpg', 'datasets/lyme_dataset/RashData/Train/Train_2_Cases/Lyme_Positive/erythema migrans167.jpg', 'datasets/lyme_dataset/RashData/Train/Train_2_Cases/Lyme_Positive/erythema migrans184.jpg', 'datasets/lyme_dataset/RashData/Train/Train_2_Cases/Lyme_Negative/Pityriasis rosea rash131.jpg', 'datasets/lyme_dataset/RashData/Train/Train_2_Cases/Lyme_Negative/ringworm97.jpg', 'datasets/lyme_dataset/RashData/Train/Train_2_Cases/Lyme_Positive/erythema migrans127.jpg', 'datasets/lyme_dataset/RashData/Train/Train_2_Cases/Lyme_Positive/erythema migrans253.jpg', 'datasets/lyme_dataset/RashData/Train/Train_2_Cases/Lyme_Positive/erythema migrans88.jpg', 'datasets/lyme_dataset/RashData/Train/Train_2_Cases/Lyme_Positive/erythema migrans237.jpg', 'datasets/lyme_dataset/RashData/Train/Train_2_Cases/Lyme_Positive/erythema migrans270.jpg', 'datasets/lyme_dataset/RashData/Train/Train_2_Cases/Lyme_Positive/erythema migrans256.jpg', 'datasets/lyme_dataset/RashData/Train/Train_2_Cases/Lyme_Positive/erythema migrans195.jpg', 'datasets/lyme_dataset/RashData/Train/Train_2_Cases/Lyme_Negative/ringworm62.jpg', 'datasets/lyme_dataset/RashData/Train/Train_2_Cases/Lyme_Negative/ringworm103.jpg', 'datasets/lyme_dataset/RashData/Train/Train_2_Cases/Lyme_Negative/Pityriasis rosea rash138.jpg', 'datasets/lyme_dataset/RashData/Train/Train_2_Cases/Lyme_Positive/erythema migrans158.jpg', 'datasets/lyme_dataset/RashData/Train/Train_2_Cases/Lyme_Positive/erythema migrans129.jpg', 'datasets/lyme_dataset/RashData/Train/Train_2_Cases/Lyme_Positive/erythema migrans217.jpg', 'datasets/lyme_dataset/RashData/Train/Train_2_Cases/Lyme_Negative/ringworm99.jpg', 'datasets/lyme_dataset/RashData/Train/Train_2_Cases/Lyme_Positive/erythema migrans53.jpg', 'datasets/lyme_dataset/RashData/Train/Train_2_Cases/Lyme_Negative/ringworm60.jpg', 'datasets/lyme_dataset/RashData/Train/Train_2_Cases/Lyme_Positive/erythema migrans51.jpg', 'datasets/lyme_dataset/RashData/Train/Train_2_Cases/Lyme_Positive/erythema migrans116.jpg', 'datasets/lyme_dataset/RashData/Train/Train_2_Cases/Lyme_Negative/fixed drug reaction28.jpg', 'datasets/lyme_dataset/RashData/Train/Train_2_Cases/Lyme_Negative/ringworm8.jpg', 'datasets/lyme_dataset/RashData/Train/Train_2_Cases/Lyme_Negative/Pityriasis rosea rash53.jpg', 'datasets/lyme_dataset/RashData/Train/Train_2_Cases/Lyme_Positive/erythema migrans225.jpg', 'datasets/lyme_dataset/RashData/Train/Train_2_Cases/Lyme_Negative/ringworm89.jpg', 'datasets/lyme_dataset/RashData/Train/Train_2_Cases/Lyme_Positive/erythema migrans126.jpg', 'datasets/lyme_dataset/RashData/Train/Train_2_Cases/Lyme_Positive/erythema migrans55.jpg', 'datasets/lyme_dataset/RashData/Train/Train_2_Cases/Lyme_Negative/ringworm73.jpg', 'datasets/lyme_dataset/RashData/Train/Train_2_Cases/Lyme_Negative/fixed drug reaction19.jpg', 'datasets/lyme_dataset/RashData/Train/Train_2_Cases/Lyme_Negative/fixed drug reaction63.jpg', 'datasets/lyme_dataset/RashData/Train/Train_2_Cases/Lyme_Negative/Pityriasis rosea rash98.jpg', 'datasets/lyme_dataset/RashData/Train/Train_2_Cases/Lyme_Negative/ringworm11.jpg', 'datasets/lyme_dataset/RashData/Train/Train_2_Cases/Lyme_Negative/ringworm37.jpg', 'datasets/lyme_dataset/RashData/Train/Train_2_Cases/Lyme_Positive/erythema migrans188.jpg', 'datasets/lyme_dataset/RashData/Train/Train_2_Cases/Lyme_Negative/Pityriasis rosea rash97.jpg', 'datasets/lyme_dataset/RashData/Train/Train_2_Cases/Lyme_Negative/fixed drug reaction71.jpg', 'datasets/lyme_dataset/RashData/Train/Train_2_Cases/Lyme_Positive/erythema migrans219.jpg', 'datasets/lyme_dataset/RashData/Train/Train_2_Cases/Lyme_Positive/erythema migrans186.jpg', 'datasets/lyme_dataset/RashData/Train/Train_2_Cases/Lyme_Negative/ringworm78.jpg', 'datasets/lyme_dataset/RashData/Train/Train_2_Cases/Lyme_Positive/erythema migrans50.jpg', 'datasets/lyme_dataset/RashData/Train/Train_2_Cases/Lyme_Negative/ringworm2.jpg', 'datasets/lyme_dataset/RashData/Train/Train_2_Cases/Lyme_Negative/ringworm115.jpg', 'datasets/lyme_dataset/RashData/Train/Train_2_Cases/Lyme_Negative/ringworm48.jpg', 'datasets/lyme_dataset/RashData/Train/Train_2_Cases/Lyme_Negative/Pityriasis rosea rash101.jpg', 'datasets/lyme_dataset/RashData/Train/Train_2_Cases/Lyme_Positive/erythema migrans101.jpg', 'datasets/lyme_dataset/RashData/Train/Train_2_Cases/Lyme_Negative/ringworm75.jpg', 'datasets/lyme_dataset/RashData/Train/Train_2_Cases/Lyme_Positive/erythema migrans86.jpg', 'datasets/lyme_dataset/RashData/Train/Train_2_Cases/Lyme_Negative/ringworm116.jpg', 'datasets/lyme_dataset/RashData/Train/Train_2_Cases/Lyme_Negative/fixed drug reaction70.jpg', 'datasets/lyme_dataset/RashData/Train/Train_2_Cases/Lyme_Negative/Pityriasis rosea rash117.jpg', 'datasets/lyme_dataset/RashData/Train/Train_2_Cases/Lyme_Negative/Pityriasis rosea rash80.jpg', 'datasets/lyme_dataset/RashData/Train/Train_2_Cases/Lyme_Negative/Pityriasis rosea rash81.jpg', 'datasets/lyme_dataset/RashData/Train/Train_2_Cases/Lyme_Negative/ringworm77.jpg', 'datasets/lyme_dataset/RashData/Train/Train_2_Cases/Lyme_Negative/ringworm86.jpg', 'datasets/lyme_dataset/RashData/Train/Train_2_Cases/Lyme_Negative/Pityriasis rosea rash96.jpg', 'datasets/lyme_dataset/RashData/Train/Train_2_Cases/Lyme_Positive/erythema migrans147.jpg', 'datasets/lyme_dataset/RashData/Train/Train_2_Cases/Lyme_Negative/Pityriasis rosea rash135.jpg', 'datasets/lyme_dataset/RashData/Train/Train_2_Cases/Lyme_Positive/erythema migrans203.jpg', 'datasets/lyme_dataset/RashData/Train/Train_2_Cases/Lyme_Negative/ringworm53.jpg', 'datasets/lyme_dataset/RashData/Train/Train_2_Cases/Lyme_Positive/erythema migrans146.jpg', 'datasets/lyme_dataset/RashData/Train/Train_2_Cases/Lyme_Negative/Pityriasis rosea rash90.jpg', 'datasets/lyme_dataset/RashData/Train/Train_2_Cases/Lyme_Negative/fixed drug reaction47.jpg', 'datasets/lyme_dataset/RashData/Train/Train_2_Cases/Lyme_Negative/Pityriasis rosea rash125.jpg', 'datasets/lyme_dataset/RashData/Train/Train_2_Cases/Lyme_Positive/erythema migrans43.jpg', 'datasets/lyme_dataset/RashData/Train/Train_2_Cases/Lyme_Negative/Pityriasis rosea rash82.jpg', 'datasets/lyme_dataset/RashData/Train/Train_2_Cases/Lyme_Positive/erythema migrans47.jpg', 'datasets/lyme_dataset/RashData/Train/Train_2_Cases/Lyme_Positive/erythema migrans124.jpg', 'datasets/lyme_dataset/RashData/Train/Train_2_Cases/Lyme_Negative/Pityriasis rosea rash89.jpg', 'datasets/lyme_dataset/RashData/Train/Train_2_Cases/Lyme_Negative/ringworm98.jpg', 'datasets/lyme_dataset/RashData/Train/Train_2_Cases/Lyme_Positive/erythema migrans190.jpg', 'datasets/lyme_dataset/RashData/Train/Train_2_Cases/Lyme_Negative/Pityriasis rosea rash133.jpg', 'datasets/lyme_dataset/RashData/Train/Train_2_Cases/Lyme_Negative/ringworm54.jpg', 'datasets/lyme_dataset/RashData/Train/Train_2_Cases/Lyme_Negative/fixed drug reaction56.jpg', 'datasets/lyme_dataset/RashData/Train/Train_2_Cases/Lyme_Positive/erythema migrans181.jpg', 'datasets/lyme_dataset/RashData/Train/Train_2_Cases/Lyme_Positive/erythema migrans211.jpg', 'datasets/lyme_dataset/RashData/Train/Train_2_Cases/Lyme_Negative/fixed drug reaction32.jpg', 'datasets/lyme_dataset/RashData/Train/Train_2_Cases/Lyme_Negative/fixed drug reaction74.jpg', 'datasets/lyme_dataset/RashData/Train/Train_2_Cases/Lyme_Positive/erythema migrans72.jpg', 'datasets/lyme_dataset/RashData/Train/Train_2_Cases/Lyme_Negative/fixed drug reaction18.jpg', 'datasets/lyme_dataset/RashData/Train/Train_2_Cases/Lyme_Negative/ringworm90.jpg', 'datasets/lyme_dataset/RashData/Train/Train_2_Cases/Lyme_Negative/ringworm44.jpg', 'datasets/lyme_dataset/RashData/Train/Train_2_Cases/Lyme_Positive/erythema migrans173.jpg', 'datasets/lyme_dataset/RashData/Train/Train_2_Cases/Lyme_Positive/erythema migrans123.jpg', 'datasets/lyme_dataset/RashData/Train/Train_2_Cases/Lyme_Negative/ringworm9.jpg', 'datasets/lyme_dataset/RashData/Train/Train_2_Cases/Lyme_Negative/Pityriasis rosea rash70.jpg', 'datasets/lyme_dataset/RashData/Train/Train_2_Cases/Lyme_Negative/ringworm113.jpg', 'datasets/lyme_dataset/RashData/Train/Train_2_Cases/Lyme_Negative/ringworm66.jpg', 'datasets/lyme_dataset/RashData/Train/Train_2_Cases/Lyme_Positive/erythema migrans66.jpg', 'datasets/lyme_dataset/RashData/Train/Train_2_Cases/Lyme_Positive/erythema migrans212.jpg', 'datasets/lyme_dataset/RashData/Train/Train_2_Cases/Lyme_Negative/Pityriasis rosea rash123.jpg', 'datasets/lyme_dataset/RashData/Train/Train_2_Cases/Lyme_Negative/ringworm119.jpg', 'datasets/lyme_dataset/RashData/Train/Train_2_Cases/Lyme_Positive/erythema migrans91.jpg', 'datasets/lyme_dataset/RashData/Train/Train_2_Cases/Lyme_Positive/erythema migrans74.jpg', 'datasets/lyme_dataset/RashData/Train/Train_2_Cases/Lyme_Positive/erythema migrans48.jpg', 'datasets/lyme_dataset/RashData/Train/Train_2_Cases/Lyme_Positive/erythema migrans170.jpg', 'datasets/lyme_dataset/RashData/Train/Train_2_Cases/Lyme_Positive/erythema migrans218.jpg']\n",
            "357\n",
            "Testing data:  ['datasets/lyme_dataset/RashData/Validation/Validation_2_Cases/Lyme_Positive/erythema migrans25.jpg', 'datasets/lyme_dataset/RashData/Validation/Validation_2_Cases/Lyme_Positive/erythema migrans26.jpg', 'datasets/lyme_dataset/RashData/Validation/Validation_2_Cases/Lyme_Negative/Pityriasis rosea rash10.jpg', 'datasets/lyme_dataset/RashData/Validation/Validation_2_Cases/Lyme_Negative/ringworm131.jpg', 'datasets/lyme_dataset/RashData/Validation/Validation_2_Cases/Lyme_Positive/erythema migrans28.jpg', 'datasets/lyme_dataset/RashData/Validation/Validation_2_Cases/Lyme_Negative/Pityriasis rosea rash11.jpg', 'datasets/lyme_dataset/RashData/Validation/Validation_2_Cases/Lyme_Positive/erythema migrans33.jpg', 'datasets/lyme_dataset/RashData/Validation/Validation_2_Cases/Lyme_Negative/Pityriasis rosea rash18.jpg', 'datasets/lyme_dataset/RashData/Validation/Validation_2_Cases/Lyme_Negative/ringworm149.jpg', 'datasets/lyme_dataset/RashData/Validation/Validation_2_Cases/Lyme_Positive/erythema migrans17.jpg', 'datasets/lyme_dataset/RashData/Validation/Validation_2_Cases/Lyme_Negative/ringworm139.jpg', 'datasets/lyme_dataset/RashData/Validation/Validation_2_Cases/Lyme_Positive/erythema migrans10.jpg', 'datasets/lyme_dataset/RashData/Validation/Validation_2_Cases/Lyme_Positive/erythema migrans5.jpg', 'datasets/lyme_dataset/RashData/Validation/Validation_2_Cases/Lyme_Positive/erythema migrans35.jpg', 'datasets/lyme_dataset/RashData/Validation/Validation_2_Cases/Lyme_Negative/ringworm135.jpg', 'datasets/lyme_dataset/RashData/Validation/Validation_2_Cases/Lyme_Negative/Pityriasis rosea rash1.jpg', 'datasets/lyme_dataset/RashData/Validation/Validation_2_Cases/Lyme_Negative/Pityriasis rosea rash8.jpg', 'datasets/lyme_dataset/RashData/Validation/Validation_2_Cases/Lyme_Negative/Pityriasis rosea rash4.jpg', 'datasets/lyme_dataset/RashData/Validation/Validation_2_Cases/Lyme_Negative/ringworm148.jpg', 'datasets/lyme_dataset/RashData/Validation/Validation_2_Cases/Lyme_Negative/Pityriasis rosea rash23.jpg', 'datasets/lyme_dataset/RashData/Validation/Validation_2_Cases/Lyme_Negative/fixed drug reaction5.jpg', 'datasets/lyme_dataset/RashData/Validation/Validation_2_Cases/Lyme_Negative/ringworm136.jpg', 'datasets/lyme_dataset/RashData/Validation/Validation_2_Cases/Lyme_Negative/Pityriasis rosea rash22.jpg', 'datasets/lyme_dataset/RashData/Validation/Validation_2_Cases/Lyme_Positive/erythema migrans27.jpg', 'datasets/lyme_dataset/RashData/Validation/Validation_2_Cases/Lyme_Positive/erythema migrans43.jpg', 'datasets/lyme_dataset/RashData/Validation/Validation_2_Cases/Lyme_Negative/Pityriasis rosea rash6.jpg', 'datasets/lyme_dataset/RashData/Validation/Validation_2_Cases/Lyme_Negative/Pityriasis rosea rash13.jpg', 'datasets/lyme_dataset/RashData/Validation/Validation_2_Cases/Lyme_Negative/fixed drug reaction4.jpg', 'datasets/lyme_dataset/RashData/Validation/Validation_2_Cases/Lyme_Negative/ringworm120.jpg', 'datasets/lyme_dataset/RashData/Validation/Validation_2_Cases/Lyme_Negative/ringworm140.jpg', 'datasets/lyme_dataset/RashData/Validation/Validation_2_Cases/Lyme_Positive/erythema migrans38.jpg', 'datasets/lyme_dataset/RashData/Validation/Validation_2_Cases/Lyme_Negative/ringworm132.jpg', 'datasets/lyme_dataset/RashData/Validation/Validation_2_Cases/Lyme_Negative/fixed drug reaction6.jpg', 'datasets/lyme_dataset/RashData/Validation/Validation_2_Cases/Lyme_Negative/ringworm123.jpg', 'datasets/lyme_dataset/RashData/Validation/Validation_2_Cases/Lyme_Positive/erythema migrans48.jpg', 'datasets/lyme_dataset/RashData/Validation/Validation_2_Cases/Lyme_Positive/erythema migrans2.jpg', 'datasets/lyme_dataset/RashData/Validation/Validation_2_Cases/Lyme_Positive/erythema migrans39.jpg', 'datasets/lyme_dataset/RashData/Validation/Validation_2_Cases/Lyme_Negative/Pityriasis rosea rash7.jpg', 'datasets/lyme_dataset/RashData/Validation/Validation_2_Cases/Lyme_Negative/ringworm119.jpg', 'datasets/lyme_dataset/RashData/Validation/Validation_2_Cases/Lyme_Positive/erythema migrans46.jpg', 'datasets/lyme_dataset/RashData/Validation/Validation_2_Cases/Lyme_Positive/erythema migrans50.jpg', 'datasets/lyme_dataset/RashData/Validation/Validation_2_Cases/Lyme_Negative/ringworm124.jpg', 'datasets/lyme_dataset/RashData/Validation/Validation_2_Cases/Lyme_Positive/erythema migrans4.jpg', 'datasets/lyme_dataset/RashData/Validation/Validation_2_Cases/Lyme_Negative/ringworm122.jpg', 'datasets/lyme_dataset/RashData/Validation/Validation_2_Cases/Lyme_Negative/fixed drug reaction3.jpg', 'datasets/lyme_dataset/RashData/Validation/Validation_2_Cases/Lyme_Positive/erythema migrans8.jpg', 'datasets/lyme_dataset/RashData/Validation/Validation_2_Cases/Lyme_Positive/erythema migrans41.jpg', 'datasets/lyme_dataset/RashData/Validation/Validation_2_Cases/Lyme_Positive/erythema migrans7.jpg', 'datasets/lyme_dataset/RashData/Validation/Validation_2_Cases/Lyme_Negative/Pityriasis rosea rash16.jpg', 'datasets/lyme_dataset/RashData/Validation/Validation_2_Cases/Lyme_Positive/erythema migrans42.jpg', 'datasets/lyme_dataset/RashData/Validation/Validation_2_Cases/Lyme_Positive/erythema migrans12.jpg', 'datasets/lyme_dataset/RashData/Validation/Validation_2_Cases/Lyme_Negative/Pityriasis rosea rash0.jpg', 'datasets/lyme_dataset/RashData/Validation/Validation_2_Cases/Lyme_Negative/Pityriasis rosea rash3.jpg', 'datasets/lyme_dataset/RashData/Validation/Validation_2_Cases/Lyme_Negative/ringworm141.jpg', 'datasets/lyme_dataset/RashData/Validation/Validation_2_Cases/Lyme_Negative/ringworm126.jpg', 'datasets/lyme_dataset/RashData/Validation/Validation_2_Cases/Lyme_Positive/erythema migrans29.jpg', 'datasets/lyme_dataset/RashData/Validation/Validation_2_Cases/Lyme_Positive/erythema migrans24.jpg', 'datasets/lyme_dataset/RashData/Validation/Validation_2_Cases/Lyme_Negative/fixed drug reaction1.jpg', 'datasets/lyme_dataset/RashData/Validation/Validation_2_Cases/Lyme_Negative/ringworm133.jpg', 'datasets/lyme_dataset/RashData/Validation/Validation_2_Cases/Lyme_Negative/Pityriasis rosea rash12.jpg', 'datasets/lyme_dataset/RashData/Validation/Validation_2_Cases/Lyme_Negative/ringworm138.jpg', 'datasets/lyme_dataset/RashData/Validation/Validation_2_Cases/Lyme_Positive/erythema migrans36.jpg', 'datasets/lyme_dataset/RashData/Validation/Validation_2_Cases/Lyme_Negative/ringworm121.jpg', 'datasets/lyme_dataset/RashData/Validation/Validation_2_Cases/Lyme_Positive/erythema migrans21.jpg', 'datasets/lyme_dataset/RashData/Validation/Validation_2_Cases/Lyme_Positive/erythema migrans32.jpg', 'datasets/lyme_dataset/RashData/Validation/Validation_2_Cases/Lyme_Positive/erythema migrans9.jpg', 'datasets/lyme_dataset/RashData/Validation/Validation_2_Cases/Lyme_Negative/ringworm130.jpg', 'datasets/lyme_dataset/RashData/Validation/Validation_2_Cases/Lyme_Positive/erythema migrans22.jpg', 'datasets/lyme_dataset/RashData/Validation/Validation_2_Cases/Lyme_Negative/fixed drug reaction7.jpg', 'datasets/lyme_dataset/RashData/Validation/Validation_2_Cases/Lyme_Negative/fixed drug reaction2.jpg', 'datasets/lyme_dataset/RashData/Validation/Validation_2_Cases/Lyme_Positive/erythema migrans15.jpg', 'datasets/lyme_dataset/RashData/Validation/Validation_2_Cases/Lyme_Positive/erythema migrans18.jpg', 'datasets/lyme_dataset/RashData/Validation/Validation_2_Cases/Lyme_Negative/Pityriasis rosea rash5.jpg', 'datasets/lyme_dataset/RashData/Validation/Validation_2_Cases/Lyme_Negative/Pityriasis rosea rash17.jpg', 'datasets/lyme_dataset/RashData/Validation/Validation_2_Cases/Lyme_Negative/Pityriasis rosea rash2.jpg', 'datasets/lyme_dataset/RashData/Validation/Validation_2_Cases/Lyme_Positive/erythema migrans30.jpg', 'datasets/lyme_dataset/RashData/Validation/Validation_2_Cases/Lyme_Negative/fixed drug reaction8.jpg', 'datasets/lyme_dataset/RashData/Validation/Validation_2_Cases/Lyme_Positive/erythema migrans47.jpg', 'datasets/lyme_dataset/RashData/Validation/Validation_2_Cases/Lyme_Negative/fixed drug reaction9.jpg', 'datasets/lyme_dataset/RashData/Validation/Validation_2_Cases/Lyme_Negative/ringworm145.jpg', 'datasets/lyme_dataset/RashData/Validation/Validation_2_Cases/Lyme_Negative/Pityriasis rosea rash26.jpg', 'datasets/lyme_dataset/RashData/Validation/Validation_2_Cases/Lyme_Positive/erythema migrans14.jpg', 'datasets/lyme_dataset/RashData/Validation/Validation_2_Cases/Lyme_Negative/Pityriasis rosea rash21.jpg', 'datasets/lyme_dataset/RashData/Validation/Validation_2_Cases/Lyme_Positive/erythema migrans0.jpg', 'datasets/lyme_dataset/RashData/Validation/Validation_2_Cases/Lyme_Negative/ringworm147.jpg', 'datasets/lyme_dataset/RashData/Validation/Validation_2_Cases/Lyme_Negative/Pityriasis rosea rash9.jpg', 'datasets/lyme_dataset/RashData/Validation/Validation_2_Cases/Lyme_Positive/erythema migrans44.jpg']\n",
            "87\n"
          ]
        }
      ]
    },
    {
      "cell_type": "code",
      "source": [
        "class LymeDataset(Dataset):\n",
        "  def __init__(self, img_dir, train=True, transform=None):\n",
        "    '''\n",
        "    Args:\n",
        "    root_dir (string): Directory with all the images.\n",
        "    transform (callable, optional): Optional transform to be applied\n",
        "      on a sample.\n",
        "    '''\n",
        "    self.train = train\n",
        "    self.img_dir = img_dir\n",
        "    self.transform = transform\n",
        "    self.images_path, self.labels = load_data(img_dir, train)\n",
        "  \n",
        "\n",
        "  def __len__(self) -> int:\n",
        "    return len(self.labels)\n",
        "\n",
        "  def __getitem__(self, idx):\n",
        "    img_path = self.images_path[idx]\n",
        "    image = read_image(img_path)\n",
        "    label = self.labels[idx]\n",
        "    if self.transform:\n",
        "      image = self.transform(image)\n",
        "    return image, label"
      ],
      "metadata": {
        "id": "Qb1W3izCzCT2"
      },
      "execution_count": 30,
      "outputs": []
    },
    {
      "cell_type": "code",
      "source": [
        "# Now\n",
        "#import torch\n",
        "#torch.manual_seed(17)\n",
        "data_aug_transforms = []\n",
        "data_aug_transforms.append(transforms.RandomRotation([-90, 90]) ) # geometric\n",
        "data_aug_transforms.append( transforms.RandomHorizontalFlip() )  # geometric\n",
        "data_aug_transforms.append(transforms.ColorJitter(brightness = 0.2)) # brightness\n",
        "transformations = transforms.Compose(data_aug_transforms)\n",
        "#[transforms.ToTensor(), +[transforms.Normalize((0.5, 0.5, 0.5), (0.5, 0.5, 0.5))]\n",
        "lyme_dataset = LymeDataset(img_dir=path, train=True, transform=transformations)\n",
        "print(lyme_dataset)"
      ],
      "metadata": {
        "colab": {
          "base_uri": "https://localhost:8080/"
        },
        "id": "L2-z08aZ_YrF",
        "outputId": "c34ec0fd-9030-4a04-ee84-49f78bf99d87"
      },
      "execution_count": 33,
      "outputs": [
        {
          "output_type": "stream",
          "name": "stdout",
          "text": [
            "<__main__.LymeDataset object at 0x7f5fcf4c31d0>\n"
          ]
        }
      ]
    },
    {
      "cell_type": "code",
      "source": [
        "labels_map = {\n",
        "    0: \"T-Shirt\",\n",
        "    1: \"Trouser\",\n",
        "    2: \"Pullover\",\n",
        "    3: \"Dress\",\n",
        "    4: \"Coat\",\n",
        "    5: \"Sandal\",\n",
        "    6: \"Shirt\",\n",
        "    7: \"Sneaker\",\n",
        "    8: \"Bag\",\n",
        "    9: \"Ankle Boot\",\n",
        "}\n",
        "figure = plt.figure(figsize=(8, 8))\n",
        "cols, rows = 3, 3\n",
        "for i in range(1, cols * rows + 1):\n",
        "    sample_idx = torch.randint(len(lyme_dataset), size=(1,)).item()\n",
        "    img, label = lyme_dataset[sample_idx]\n",
        "    figure.add_subplot(rows, cols, i)\n",
        "    plt.title(labels_map[label])\n",
        "    plt.axis(\"off\")\n",
        "    plt.imshow(img.squeeze(), cmap=\"gray\")\n",
        "plt.show()"
      ],
      "metadata": {
        "colab": {
          "base_uri": "https://localhost:8080/",
          "height": 521
        },
        "id": "Bc-G4x3PJHUY",
        "outputId": "49ca88b4-442d-4ad7-a5d3-28266c432979"
      },
      "execution_count": 34,
      "outputs": [
        {
          "output_type": "error",
          "ename": "TypeError",
          "evalue": "ignored",
          "traceback": [
            "\u001b[0;31m---------------------------------------------------------------------------\u001b[0m",
            "\u001b[0;31mTypeError\u001b[0m                                 Traceback (most recent call last)",
            "\u001b[0;32m<ipython-input-34-acfd06d62379>\u001b[0m in \u001b[0;36m<module>\u001b[0;34m()\u001b[0m\n\u001b[1;32m     19\u001b[0m     \u001b[0mplt\u001b[0m\u001b[0;34m.\u001b[0m\u001b[0mtitle\u001b[0m\u001b[0;34m(\u001b[0m\u001b[0mlabels_map\u001b[0m\u001b[0;34m[\u001b[0m\u001b[0mlabel\u001b[0m\u001b[0;34m]\u001b[0m\u001b[0;34m)\u001b[0m\u001b[0;34m\u001b[0m\u001b[0;34m\u001b[0m\u001b[0m\n\u001b[1;32m     20\u001b[0m     \u001b[0mplt\u001b[0m\u001b[0;34m.\u001b[0m\u001b[0maxis\u001b[0m\u001b[0;34m(\u001b[0m\u001b[0;34m\"off\"\u001b[0m\u001b[0;34m)\u001b[0m\u001b[0;34m\u001b[0m\u001b[0;34m\u001b[0m\u001b[0m\n\u001b[0;32m---> 21\u001b[0;31m     \u001b[0mplt\u001b[0m\u001b[0;34m.\u001b[0m\u001b[0mimshow\u001b[0m\u001b[0;34m(\u001b[0m\u001b[0mimg\u001b[0m\u001b[0;34m.\u001b[0m\u001b[0msqueeze\u001b[0m\u001b[0;34m(\u001b[0m\u001b[0;34m)\u001b[0m\u001b[0;34m,\u001b[0m \u001b[0mcmap\u001b[0m\u001b[0;34m=\u001b[0m\u001b[0;34m\"gray\"\u001b[0m\u001b[0;34m)\u001b[0m\u001b[0;34m\u001b[0m\u001b[0;34m\u001b[0m\u001b[0m\n\u001b[0m\u001b[1;32m     22\u001b[0m \u001b[0mplt\u001b[0m\u001b[0;34m.\u001b[0m\u001b[0mshow\u001b[0m\u001b[0;34m(\u001b[0m\u001b[0;34m)\u001b[0m\u001b[0;34m\u001b[0m\u001b[0;34m\u001b[0m\u001b[0m\n",
            "\u001b[0;32m/usr/local/lib/python3.7/dist-packages/matplotlib/pyplot.py\u001b[0m in \u001b[0;36mimshow\u001b[0;34m(X, cmap, norm, aspect, interpolation, alpha, vmin, vmax, origin, extent, shape, filternorm, filterrad, imlim, resample, url, data, **kwargs)\u001b[0m\n\u001b[1;32m   2649\u001b[0m         \u001b[0mfilternorm\u001b[0m\u001b[0;34m=\u001b[0m\u001b[0mfilternorm\u001b[0m\u001b[0;34m,\u001b[0m \u001b[0mfilterrad\u001b[0m\u001b[0;34m=\u001b[0m\u001b[0mfilterrad\u001b[0m\u001b[0;34m,\u001b[0m \u001b[0mimlim\u001b[0m\u001b[0;34m=\u001b[0m\u001b[0mimlim\u001b[0m\u001b[0;34m,\u001b[0m\u001b[0;34m\u001b[0m\u001b[0;34m\u001b[0m\u001b[0m\n\u001b[1;32m   2650\u001b[0m         resample=resample, url=url, **({\"data\": data} if data is not\n\u001b[0;32m-> 2651\u001b[0;31m         None else {}), **kwargs)\n\u001b[0m\u001b[1;32m   2652\u001b[0m     \u001b[0msci\u001b[0m\u001b[0;34m(\u001b[0m\u001b[0m__ret\u001b[0m\u001b[0;34m)\u001b[0m\u001b[0;34m\u001b[0m\u001b[0;34m\u001b[0m\u001b[0m\n\u001b[1;32m   2653\u001b[0m     \u001b[0;32mreturn\u001b[0m \u001b[0m__ret\u001b[0m\u001b[0;34m\u001b[0m\u001b[0;34m\u001b[0m\u001b[0m\n",
            "\u001b[0;32m/usr/local/lib/python3.7/dist-packages/matplotlib/__init__.py\u001b[0m in \u001b[0;36minner\u001b[0;34m(ax, data, *args, **kwargs)\u001b[0m\n\u001b[1;32m   1563\u001b[0m     \u001b[0;32mdef\u001b[0m \u001b[0minner\u001b[0m\u001b[0;34m(\u001b[0m\u001b[0max\u001b[0m\u001b[0;34m,\u001b[0m \u001b[0;34m*\u001b[0m\u001b[0margs\u001b[0m\u001b[0;34m,\u001b[0m \u001b[0mdata\u001b[0m\u001b[0;34m=\u001b[0m\u001b[0;32mNone\u001b[0m\u001b[0;34m,\u001b[0m \u001b[0;34m**\u001b[0m\u001b[0mkwargs\u001b[0m\u001b[0;34m)\u001b[0m\u001b[0;34m:\u001b[0m\u001b[0;34m\u001b[0m\u001b[0;34m\u001b[0m\u001b[0m\n\u001b[1;32m   1564\u001b[0m         \u001b[0;32mif\u001b[0m \u001b[0mdata\u001b[0m \u001b[0;32mis\u001b[0m \u001b[0;32mNone\u001b[0m\u001b[0;34m:\u001b[0m\u001b[0;34m\u001b[0m\u001b[0;34m\u001b[0m\u001b[0m\n\u001b[0;32m-> 1565\u001b[0;31m             \u001b[0;32mreturn\u001b[0m \u001b[0mfunc\u001b[0m\u001b[0;34m(\u001b[0m\u001b[0max\u001b[0m\u001b[0;34m,\u001b[0m \u001b[0;34m*\u001b[0m\u001b[0mmap\u001b[0m\u001b[0;34m(\u001b[0m\u001b[0msanitize_sequence\u001b[0m\u001b[0;34m,\u001b[0m \u001b[0margs\u001b[0m\u001b[0;34m)\u001b[0m\u001b[0;34m,\u001b[0m \u001b[0;34m**\u001b[0m\u001b[0mkwargs\u001b[0m\u001b[0;34m)\u001b[0m\u001b[0;34m\u001b[0m\u001b[0;34m\u001b[0m\u001b[0m\n\u001b[0m\u001b[1;32m   1566\u001b[0m \u001b[0;34m\u001b[0m\u001b[0m\n\u001b[1;32m   1567\u001b[0m         \u001b[0mbound\u001b[0m \u001b[0;34m=\u001b[0m \u001b[0mnew_sig\u001b[0m\u001b[0;34m.\u001b[0m\u001b[0mbind\u001b[0m\u001b[0;34m(\u001b[0m\u001b[0max\u001b[0m\u001b[0;34m,\u001b[0m \u001b[0;34m*\u001b[0m\u001b[0margs\u001b[0m\u001b[0;34m,\u001b[0m \u001b[0;34m**\u001b[0m\u001b[0mkwargs\u001b[0m\u001b[0;34m)\u001b[0m\u001b[0;34m\u001b[0m\u001b[0;34m\u001b[0m\u001b[0m\n",
            "\u001b[0;32m/usr/local/lib/python3.7/dist-packages/matplotlib/cbook/deprecation.py\u001b[0m in \u001b[0;36mwrapper\u001b[0;34m(*args, **kwargs)\u001b[0m\n\u001b[1;32m    356\u001b[0m                 \u001b[0;34mf\"%(removal)s.  If any parameter follows {name!r}, they \"\u001b[0m\u001b[0;34m\u001b[0m\u001b[0;34m\u001b[0m\u001b[0m\n\u001b[1;32m    357\u001b[0m                 f\"should be pass as keyword, not positionally.\")\n\u001b[0;32m--> 358\u001b[0;31m         \u001b[0;32mreturn\u001b[0m \u001b[0mfunc\u001b[0m\u001b[0;34m(\u001b[0m\u001b[0;34m*\u001b[0m\u001b[0margs\u001b[0m\u001b[0;34m,\u001b[0m \u001b[0;34m**\u001b[0m\u001b[0mkwargs\u001b[0m\u001b[0;34m)\u001b[0m\u001b[0;34m\u001b[0m\u001b[0;34m\u001b[0m\u001b[0m\n\u001b[0m\u001b[1;32m    359\u001b[0m \u001b[0;34m\u001b[0m\u001b[0m\n\u001b[1;32m    360\u001b[0m     \u001b[0;32mreturn\u001b[0m \u001b[0mwrapper\u001b[0m\u001b[0;34m\u001b[0m\u001b[0;34m\u001b[0m\u001b[0m\n",
            "\u001b[0;32m/usr/local/lib/python3.7/dist-packages/matplotlib/cbook/deprecation.py\u001b[0m in \u001b[0;36mwrapper\u001b[0;34m(*args, **kwargs)\u001b[0m\n\u001b[1;32m    356\u001b[0m                 \u001b[0;34mf\"%(removal)s.  If any parameter follows {name!r}, they \"\u001b[0m\u001b[0;34m\u001b[0m\u001b[0;34m\u001b[0m\u001b[0m\n\u001b[1;32m    357\u001b[0m                 f\"should be pass as keyword, not positionally.\")\n\u001b[0;32m--> 358\u001b[0;31m         \u001b[0;32mreturn\u001b[0m \u001b[0mfunc\u001b[0m\u001b[0;34m(\u001b[0m\u001b[0;34m*\u001b[0m\u001b[0margs\u001b[0m\u001b[0;34m,\u001b[0m \u001b[0;34m**\u001b[0m\u001b[0mkwargs\u001b[0m\u001b[0;34m)\u001b[0m\u001b[0;34m\u001b[0m\u001b[0;34m\u001b[0m\u001b[0m\n\u001b[0m\u001b[1;32m    359\u001b[0m \u001b[0;34m\u001b[0m\u001b[0m\n\u001b[1;32m    360\u001b[0m     \u001b[0;32mreturn\u001b[0m \u001b[0mwrapper\u001b[0m\u001b[0;34m\u001b[0m\u001b[0;34m\u001b[0m\u001b[0m\n",
            "\u001b[0;32m/usr/local/lib/python3.7/dist-packages/matplotlib/axes/_axes.py\u001b[0m in \u001b[0;36mimshow\u001b[0;34m(self, X, cmap, norm, aspect, interpolation, alpha, vmin, vmax, origin, extent, shape, filternorm, filterrad, imlim, resample, url, **kwargs)\u001b[0m\n\u001b[1;32m   5624\u001b[0m                               resample=resample, **kwargs)\n\u001b[1;32m   5625\u001b[0m \u001b[0;34m\u001b[0m\u001b[0m\n\u001b[0;32m-> 5626\u001b[0;31m         \u001b[0mim\u001b[0m\u001b[0;34m.\u001b[0m\u001b[0mset_data\u001b[0m\u001b[0;34m(\u001b[0m\u001b[0mX\u001b[0m\u001b[0;34m)\u001b[0m\u001b[0;34m\u001b[0m\u001b[0;34m\u001b[0m\u001b[0m\n\u001b[0m\u001b[1;32m   5627\u001b[0m         \u001b[0mim\u001b[0m\u001b[0;34m.\u001b[0m\u001b[0mset_alpha\u001b[0m\u001b[0;34m(\u001b[0m\u001b[0malpha\u001b[0m\u001b[0;34m)\u001b[0m\u001b[0;34m\u001b[0m\u001b[0;34m\u001b[0m\u001b[0m\n\u001b[1;32m   5628\u001b[0m         \u001b[0;32mif\u001b[0m \u001b[0mim\u001b[0m\u001b[0;34m.\u001b[0m\u001b[0mget_clip_path\u001b[0m\u001b[0;34m(\u001b[0m\u001b[0;34m)\u001b[0m \u001b[0;32mis\u001b[0m \u001b[0;32mNone\u001b[0m\u001b[0;34m:\u001b[0m\u001b[0;34m\u001b[0m\u001b[0;34m\u001b[0m\u001b[0m\n",
            "\u001b[0;32m/usr/local/lib/python3.7/dist-packages/matplotlib/image.py\u001b[0m in \u001b[0;36mset_data\u001b[0;34m(self, A)\u001b[0m\n\u001b[1;32m    697\u001b[0m                 or self._A.ndim == 3 and self._A.shape[-1] in [3, 4]):\n\u001b[1;32m    698\u001b[0m             raise TypeError(\"Invalid shape {} for image data\"\n\u001b[0;32m--> 699\u001b[0;31m                             .format(self._A.shape))\n\u001b[0m\u001b[1;32m    700\u001b[0m \u001b[0;34m\u001b[0m\u001b[0m\n\u001b[1;32m    701\u001b[0m         \u001b[0;32mif\u001b[0m \u001b[0mself\u001b[0m\u001b[0;34m.\u001b[0m\u001b[0m_A\u001b[0m\u001b[0;34m.\u001b[0m\u001b[0mndim\u001b[0m \u001b[0;34m==\u001b[0m \u001b[0;36m3\u001b[0m\u001b[0;34m:\u001b[0m\u001b[0;34m\u001b[0m\u001b[0;34m\u001b[0m\u001b[0m\n",
            "\u001b[0;31mTypeError\u001b[0m: Invalid shape (3, 450, 676) for image data"
          ]
        },
        {
          "output_type": "display_data",
          "data": {
            "text/plain": [
              "<Figure size 576x576 with 1 Axes>"
            ],
            "image/png": "[encoded data removed]"
          },
          "metadata": {
            "needs_background": "light"
          }
        }
      ]
    },
    {
      "cell_type": "code",
      "source": [
        "'''\n",
        "def tf_parse(x,y):\n",
        "  def _parse(x,y):\n",
        "      x = read_image(x)\n",
        "      return x,y\n",
        "\n",
        "  x,y = tf.numpy_function(_parse, [x,y],  [tf.float64, tf.float64])\n",
        "  #y = tf.cast(y, tf.double)\n",
        "  x.set_shape([IMAGE_SIZE, IMAGE_SIZE, 3])\n",
        "  #x = tf.cast(x, tf.double)\n",
        "  return x,y\n",
        "\n",
        "def tf_dataset(x, y, batch=8):\n",
        "  dataset = tf.data.Dataset.from_tensor_slices((x,y))\n",
        "  dataset = dataset.map(tf_parse)\n",
        "  #print(dataset)\n",
        "  dataset = dataset.map(data_augmentation)\n",
        "  dataset = dataset.batch(batch)\n",
        "  dataset = dataset.repeat()\n",
        "  return dataset\n",
        "\n",
        "train_dataset = tf_dataset(train_x, train_y, batch=BATCH)\n",
        "valid_dataset = tf_dataset(valid_x, valid_y, batch=BATCH)\n",
        "'''"
      ],
      "metadata": {
        "id": "o5Ad7pPzJwXw"
      },
      "execution_count": null,
      "outputs": []
    },
    {
      "cell_type": "markdown",
      "source": [
        "### Extra code"
      ],
      "metadata": {
        "id": "8OAAMc9dKR79"
      }
    },
    {
      "cell_type": "code",
      "source": [
        "images= np.zeros(20)\n",
        "labels = np.ones(20)\n",
        "data = list(zip(images,labels))\n",
        "print(len(data))\n",
        "print(data)\n",
        "print(data.shape)"
      ],
      "metadata": {
        "colab": {
          "base_uri": "https://localhost:8080/",
          "height": 255
        },
        "id": "3bBv7aLzF2q3",
        "outputId": "5fe149ce-744e-4ae2-f9e9-8f6cd08a0944"
      },
      "execution_count": null,
      "outputs": [
        {
          "output_type": "stream",
          "name": "stdout",
          "text": [
            "20\n",
            "[(0.0, 1.0), (0.0, 1.0), (0.0, 1.0), (0.0, 1.0), (0.0, 1.0), (0.0, 1.0), (0.0, 1.0), (0.0, 1.0), (0.0, 1.0), (0.0, 1.0), (0.0, 1.0), (0.0, 1.0), (0.0, 1.0), (0.0, 1.0), (0.0, 1.0), (0.0, 1.0), (0.0, 1.0), (0.0, 1.0), (0.0, 1.0), (0.0, 1.0)]\n"
          ]
        },
        {
          "output_type": "error",
          "ename": "AttributeError",
          "evalue": "ignored",
          "traceback": [
            "\u001b[0;31m---------------------------------------------------------------------------\u001b[0m",
            "\u001b[0;31mAttributeError\u001b[0m                            Traceback (most recent call last)",
            "\u001b[0;32m<ipython-input-9-ff0a5374e259>\u001b[0m in \u001b[0;36m<module>\u001b[0;34m()\u001b[0m\n\u001b[1;32m      4\u001b[0m \u001b[0mprint\u001b[0m\u001b[0;34m(\u001b[0m\u001b[0mlen\u001b[0m\u001b[0;34m(\u001b[0m\u001b[0mdata\u001b[0m\u001b[0;34m)\u001b[0m\u001b[0;34m)\u001b[0m\u001b[0;34m\u001b[0m\u001b[0;34m\u001b[0m\u001b[0m\n\u001b[1;32m      5\u001b[0m \u001b[0mprint\u001b[0m\u001b[0;34m(\u001b[0m\u001b[0mdata\u001b[0m\u001b[0;34m)\u001b[0m\u001b[0;34m\u001b[0m\u001b[0;34m\u001b[0m\u001b[0m\n\u001b[0;32m----> 6\u001b[0;31m \u001b[0mprint\u001b[0m\u001b[0;34m(\u001b[0m\u001b[0mdata\u001b[0m\u001b[0;34m.\u001b[0m\u001b[0mshape\u001b[0m\u001b[0;34m)\u001b[0m\u001b[0;34m\u001b[0m\u001b[0;34m\u001b[0m\u001b[0m\n\u001b[0m",
            "\u001b[0;31mAttributeError\u001b[0m: 'list' object has no attribute 'shape'"
          ]
        }
      ]
    }
  ]
}